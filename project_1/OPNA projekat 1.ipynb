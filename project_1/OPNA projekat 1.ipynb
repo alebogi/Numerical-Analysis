{
 "cells": [
  {
   "cell_type": "code",
   "execution_count": 1,
   "metadata": {},
   "outputs": [],
   "source": [
    "import numpy as np\n",
    "import math \n",
    "from decimal import *"
   ]
  },
  {
   "cell_type": "markdown",
   "metadata": {},
   "source": [
    "Uvodimo klasu kojom predstavljamo razlomak (razlomak je oblika p/q):"
   ]
  },
  {
   "cell_type": "code",
   "execution_count": 2,
   "metadata": {},
   "outputs": [],
   "source": [
    "class Fraction: #p/q\n",
    "    def __init__(self, p, q):\n",
    "        self.p = p\n",
    "        self.q = q\n",
    "        \n",
    "    def set_p(self, p): #brojilac\n",
    "        self.p = p\n",
    "    def set_q(self, q): #imenilac\n",
    "        self.q = q \n",
    "        \n",
    "    def set_e1(self, alpha): #vrednost apsolutne greske, za racunanje prve vrste\n",
    "        self.e1_sign = alpha-self.p/self.q\n",
    "        self.e1 = np.absolute(alpha-self.p/self.q)\n",
    "    \n",
    "    def set_e2(self, alpha): #vrednost apsolutne greske, za racunanje druge vrste\n",
    "        self.e2_sign = self.q*alpha-self.p\n",
    "        self.e2 = np.absolute(self.q*alpha-self.p)\n",
    "      #  gcd = math.gcd(self.p, self.q)\n",
    "      #  q = self.q / gcd\n",
    "      #  p = self.p / gcd\n",
    "      #  self.e2_sign = q*alpha-p\n",
    "      #  self.e2 = np.absolute(q*alpha-p)\n",
    "        \n",
    "    def printFr(self):\n",
    "        res = str(self.p) + \"/\" + str(self.q)\n",
    "        return res\n",
    "    \n",
    "    def verizniRazlomak(self):  #algoritam za racunanje veriznog razlomka\n",
    "        k = 10\n",
    "        self.verizni = []\n",
    "        x0 = Decimal(self.p/self.q)\n",
    "        a0 = Decimal(math.floor(Decimal(x0)))\n",
    "        d0 = Decimal(x0 - a0)\n",
    "        x=[]\n",
    "        x.append(x0)\n",
    "        a=[]\n",
    "        a.append(a0)\n",
    "        self.verizni.append(a0)\n",
    "        d=[]\n",
    "        d.append(d0)\n",
    "        \n",
    "        \n",
    "        for i in range(1,k):\n",
    "            if d[i-1] <= 0.00000001:\n",
    "                break\n",
    "            xx = Decimal(1 / d[i-1])\n",
    "            x.append(xx)\n",
    "            \n",
    "            aa = Decimal(math.floor(xx))\n",
    "            a.append(aa)\n",
    "            self.verizni.append(aa)\n",
    "            \n",
    "            dd = Decimal(xx - aa)\n",
    "            d.append(dd)\n",
    "        \n",
    "        last_index = len(a)-1\n",
    "        if a[last_index] == 1 and len(a) > 1:\n",
    "            a[last_index - 1] = a[last_index - 1] + 1\n",
    "            self.verizni[last_index - 1] = self.verizni[last_index - 1] + 1\n",
    "            del a[last_index]\n",
    "            del self.verizni[last_index]\n",
    "            \n",
    "        return\n",
    "    \n",
    "    def printVerizni(self):\n",
    "        res = \"[\"\n",
    "        for i in range(len(self.verizni)):\n",
    "            res = res + str(self.verizni[i])\n",
    "            if(i==0 and len(self.verizni)>1):\n",
    "                res = res + \";\"\n",
    "            else:\n",
    "                if i!=len(self.verizni)-1:\n",
    "                    res = res + \",\" \n",
    "        res = res + \"]\"\n",
    "        return res"
   ]
  },
  {
   "cell_type": "markdown",
   "metadata": {},
   "source": [
    "Uvodimo nizove gde cemo smestati:\n",
    "all_fractions - sve razlomke p/q\n",
    "best_first - najbolje racionalne aproksimacije prve vrste\n",
    "best_second - najbolje racionalne aproksimacije druge vrste"
   ]
  },
  {
   "cell_type": "code",
   "execution_count": 3,
   "metadata": {},
   "outputs": [],
   "source": [
    "all_fractions = []\n",
    "best_first = []\n",
    "best_second = []"
   ]
  },
  {
   "cell_type": "markdown",
   "metadata": {},
   "source": [
    "Uvodimo promenljivu u kojoj cemo cuvati minimalnu gresku i koji razlomak daje tu gresku"
   ]
  },
  {
   "cell_type": "code",
   "execution_count": 4,
   "metadata": {},
   "outputs": [],
   "source": [
    "e1_min = float(\"inf\")\n",
    "e2_min = float(\"inf\")"
   ]
  },
  {
   "cell_type": "markdown",
   "metadata": {},
   "source": [
    "Unosimo vrednosti alfa, n i m.\n",
    "alfa=2.2955871\n",
    "n = 1\n",
    "m = 15"
   ]
  },
  {
   "cell_type": "code",
   "execution_count": 5,
   "metadata": {},
   "outputs": [
    {
     "name": "stdout",
     "output_type": "stream",
     "text": [
      "Uneti realan broj: 3.1415926\n",
      "Uneti vrednost n: 1\n",
      "Uneti vrednost m, tako da je n<m: 10\n"
     ]
    }
   ],
   "source": [
    "badInput = True\n",
    "while badInput:\n",
    "    alpha = float(input(\"Uneti realan broj: \"))\n",
    "    n = int(input(\"Uneti vrednost n: \"))\n",
    "    m = int(input(\"Uneti vrednost m, tako da je n<m: \"))\n",
    "    if(n>=m):\n",
    "        print(\"Nije ispunjen uslov n<m! Ponovite unos.\")\n",
    "    else:\n",
    "        badInput = False"
   ]
  },
  {
   "cell_type": "markdown",
   "metadata": {},
   "source": [
    "Algoritam za ispis razlomaka p/q:\n",
    "Formiramo niz razlomaka (all_fractions) oblika p/q, tako da je:\n",
    "    q = (n, n+1, n+2,..,m) \n",
    "    p = alpha * q, zaokruzeno na najblizi prirodan broj"
   ]
  },
  {
   "cell_type": "code",
   "execution_count": 6,
   "metadata": {},
   "outputs": [],
   "source": [
    "for q in range(n, m+1):\n",
    "    p = int(np.round(alpha*q))\n",
    "    fr = Fraction(p, q)\n",
    "    fr.set_e1(alpha)\n",
    "    fr.set_e2(alpha)\n",
    "    fr.verizniRazlomak()\n",
    "    all_fractions.append(fr)\n"
   ]
  },
  {
   "cell_type": "markdown",
   "metadata": {},
   "source": [
    "Ispis razlomaka i greske:"
   ]
  },
  {
   "cell_type": "code",
   "execution_count": 7,
   "metadata": {
    "scrolled": true
   },
   "outputs": [
    {
     "name": "stdout",
     "output_type": "stream",
     "text": [
      "3/1 [3]  e1 = 0.14159260000000007  e2 = 0.14159260000000007\n",
      "6/2 [3]  e1 = 0.14159260000000007  e2 = 0.28318520000000014\n",
      "9/3 [3]  e1 = 0.14159260000000007  e2 = 0.4247778000000011\n",
      "13/4 [3;4]  e1 = -0.10840739999999993  e2 = -0.4336295999999997\n",
      "16/5 [3;5]  e1 = -0.05840740000000011  e2 = -0.29203700000000055\n",
      "19/6 [3;6]  e1 = -0.02507406666666645  e2 = -0.1504443999999978\n",
      "22/7 [3;7]  e1 = -0.0012645428571427253  e2 = -0.008851799999998633\n",
      "25/8 [3;8]  e1 = 0.01659260000000007  e2 = 0.13274080000000055\n",
      "28/9 [3;9]  e1 = 0.030481488888888908  e2 = 0.2743333999999997\n",
      "31/10 [3;10]  e1 = 0.04159259999999998  e2 = 0.4159259999999989\n"
     ]
    }
   ],
   "source": [
    "for i in range(len(all_fractions)):\n",
    "    print(all_fractions[i].printFr() + \" \" + all_fractions[i].printVerizni()  + \n",
    "          \"  e1 = \"+ str(all_fractions[i].e1_sign) +\"  e2 = \"+ str(all_fractions[i].e2_sign))\n",
    "    "
   ]
  },
  {
   "cell_type": "markdown",
   "metadata": {},
   "source": [
    "Sortiranje i ispis liste po uslovu minimalnosti apsolutne greske |alpha-p/q|:"
   ]
  },
  {
   "cell_type": "code",
   "execution_count": 8,
   "metadata": {},
   "outputs": [
    {
     "name": "stdout",
     "output_type": "stream",
     "text": [
      "Sortirana lista razlomaka po minimalnosti apsolutne greske e=|alpha-p/q| :\n",
      "22/7 [3;7]  e1 = -0.0012645428571427253\n",
      "25/8 [3;8]  e1 = 0.01659260000000007\n",
      "19/6 [3;6]  e1 = -0.02507406666666645\n",
      "28/9 [3;9]  e1 = 0.030481488888888908\n",
      "31/10 [3;10]  e1 = 0.04159259999999998\n",
      "16/5 [3;5]  e1 = -0.05840740000000011\n",
      "13/4 [3;4]  e1 = -0.10840739999999993\n",
      "3/1 [3]  e1 = 0.14159260000000007\n",
      "6/2 [3]  e1 = 0.14159260000000007\n",
      "9/3 [3]  e1 = 0.14159260000000007\n"
     ]
    }
   ],
   "source": [
    "sorted_all_fr = sorted(all_fractions, key=lambda fr : fr.e1)\n",
    "print(\"Sortirana lista razlomaka po minimalnosti apsolutne greske e=|alpha-p/q| :\")\n",
    "for i in range(len(sorted_all_fr)):\n",
    "    print(sorted_all_fr[i].printFr()+ \" \" + sorted_all_fr[i].printVerizni()  +\"  e1 = \"+ str(sorted_all_fr[i].e1_sign))"
   ]
  },
  {
   "cell_type": "markdown",
   "metadata": {},
   "source": [
    "Sortiranje i ispis liste po uslovu minimalnosti apsolutne greske |alpha*q-p|:"
   ]
  },
  {
   "cell_type": "code",
   "execution_count": 9,
   "metadata": {},
   "outputs": [
    {
     "name": "stdout",
     "output_type": "stream",
     "text": [
      "Sortirana lista razlomaka po minimalnosti apsolutne greske e=|alpha*q-p| :\n",
      "22/7 [3;7]  e2 = -0.008851799999998633\n",
      "25/8 [3;8]  e2 = 0.13274080000000055\n",
      "3/1 [3]  e2 = 0.14159260000000007\n",
      "19/6 [3;6]  e2 = -0.1504443999999978\n",
      "28/9 [3;9]  e2 = 0.2743333999999997\n",
      "6/2 [3]  e2 = 0.28318520000000014\n",
      "16/5 [3;5]  e2 = -0.29203700000000055\n",
      "31/10 [3;10]  e2 = 0.4159259999999989\n",
      "9/3 [3]  e2 = 0.4247778000000011\n",
      "13/4 [3;4]  e2 = -0.4336295999999997\n"
     ]
    }
   ],
   "source": [
    "sorted_all_fr2 = sorted(all_fractions, key=lambda fr : fr.e2)\n",
    "print(\"Sortirana lista razlomaka po minimalnosti apsolutne greske e=|alpha*q-p| :\")\n",
    "for i in range(len(sorted_all_fr)):\n",
    "    print(sorted_all_fr2[i].printFr()+ \" \" + sorted_all_fr2[i].printVerizni()  +\"  e2 = \"+ str(sorted_all_fr2[i].e2_sign))"
   ]
  },
  {
   "cell_type": "markdown",
   "metadata": {},
   "source": [
    "Trazimo verizne razlomke za datu konstantu alpha:"
   ]
  },
  {
   "cell_type": "code",
   "execution_count": 10,
   "metadata": {},
   "outputs": [
    {
     "name": "stdout",
     "output_type": "stream",
     "text": [
      "[3;7,15,1,243,1,1,10]\n"
     ]
    }
   ],
   "source": [
    "k = m-n\n",
    "alpha_verizni=[]\n",
    "\n",
    "x0 = Decimal(alpha)\n",
    "a0 = Decimal(math.floor(Decimal(x0)))\n",
    "d0 = Decimal(x0 - a0)\n",
    "x=[]\n",
    "x.append(x0)\n",
    "a=[]\n",
    "a.append(a0)\n",
    "alpha_verizni.append(a0)\n",
    "d=[]\n",
    "d.append(d0)\n",
    "\n",
    "\n",
    "for i in range(1,k):\n",
    "    if d[i-1] <= 0.000000000000000000000000000000000000000001:\n",
    "        break\n",
    "    xx = Decimal( 1 / d[i-1])\n",
    "    x.append(xx)\n",
    "    aa = Decimal(math.floor(Decimal(xx)))\n",
    "    a.append(aa)\n",
    "    alpha_verizni.append(aa)\n",
    "\n",
    "    dd = Decimal(xx - aa )\n",
    "    d.append(dd)\n",
    "    \n",
    "last_index = len(a)-1\n",
    "if a[last_index] == 1  and len(a) > 1:\n",
    "    a[last_index - 1] = a[last_index - 1] + 1\n",
    "    alpha_verizni[last_index - 1] = alpha_verizni[last_index - 1] + 1\n",
    "    del a[last_index]\n",
    "    del alpha_verizni[last_index]\n",
    "    \n",
    "res = \"[\"\n",
    "for i in range(len(alpha_verizni)):\n",
    "    res = res + str(alpha_verizni[i])\n",
    "    if(i==0 and len(alpha_verizni)>1):\n",
    "        res = res + \";\"\n",
    "    else:\n",
    "        if i!=len(alpha_verizni)-1:\n",
    "            res = res + \",\" \n",
    "res = res + \"]\"\n",
    "print(res)"
   ]
  },
  {
   "cell_type": "markdown",
   "metadata": {},
   "source": [
    "Trazimo aproksimacije prve i druge vrste:\n"
   ]
  },
  {
   "cell_type": "code",
   "execution_count": 11,
   "metadata": {},
   "outputs": [],
   "source": [
    "for i in range(0, len(all_fractions)):\n",
    "    fr = all_fractions[i]\n",
    "    if fr.e2 < e2_min:\n",
    "        e2_min = fr.e2\n",
    "        best_second.append(fr)\n",
    "        if fr.e1 < e1_min:\n",
    "            e1_min = fr.e1\n",
    "        continue\n",
    "    if fr.e1 < e1_min:\n",
    "        e1_min = fr.e1\n",
    "        best_first.append(fr)"
   ]
  },
  {
   "cell_type": "markdown",
   "metadata": {},
   "source": [
    "Ispis prve vrste:"
   ]
  },
  {
   "cell_type": "code",
   "execution_count": 12,
   "metadata": {},
   "outputs": [
    {
     "name": "stdout",
     "output_type": "stream",
     "text": [
      "APROKSIMACIJE PRVE VRSTE:\n",
      "13/4 [3;4]  e1 = -0.10840739999999993  e2 = -0.4336295999999997\n",
      "16/5 [3;5]  e1 = -0.05840740000000011  e2 = -0.29203700000000055\n",
      "19/6 [3;6]  e1 = -0.02507406666666645  e2 = -0.1504443999999978\n",
      "Sortirano:\n",
      "19/6 [3;6]  e1 = -0.02507406666666645  e2 = -0.1504443999999978\n",
      "16/5 [3;5]  e1 = -0.05840740000000011  e2 = -0.29203700000000055\n",
      "13/4 [3;4]  e1 = -0.10840739999999993  e2 = -0.4336295999999997\n"
     ]
    }
   ],
   "source": [
    "print(\"APROKSIMACIJE PRVE VRSTE:\")\n",
    "for fr in best_first:\n",
    "    print(fr.printFr() + \" \" + fr.printVerizni()  + \"  e1 = \"+ str(fr.e1_sign) +\"  e2 = \"+ str(fr.e2_sign))\n",
    "\n",
    "print(\"Sortirano:\")\n",
    "sorted_best_first = sorted(best_first, key=lambda fr : fr.e1)\n",
    "for fr in sorted_best_first:\n",
    "    print(fr.printFr() + \" \" + fr.printVerizni()  + \"  e1 = \"+ str(fr.e1_sign) +\"  e2 = \"+ str(fr.e2_sign))"
   ]
  },
  {
   "cell_type": "markdown",
   "metadata": {},
   "source": [
    "Ispis druge vrste:"
   ]
  },
  {
   "cell_type": "code",
   "execution_count": 13,
   "metadata": {},
   "outputs": [
    {
     "name": "stdout",
     "output_type": "stream",
     "text": [
      "APROKSIMACIJE DRUGE VRSTE:\n",
      "3/1 [3]  e1 = 0.14159260000000007  e2 = 0.14159260000000007\n",
      "22/7 [3;7]  e1 = -0.0012645428571427253  e2 = -0.008851799999998633\n",
      "Sortirano:\n",
      "22/7 [3;7]  e1 = -0.0012645428571427253  e2 = -0.008851799999998633\n",
      "3/1 [3]  e1 = 0.14159260000000007  e2 = 0.14159260000000007\n"
     ]
    }
   ],
   "source": [
    "print(\"APROKSIMACIJE DRUGE VRSTE:\")\n",
    "for fr in best_second:\n",
    "    print(fr.printFr() + \" \" + fr.printVerizni()  + \"  e1 = \"+ str(fr.e1_sign) +\"  e2 = \"+ str(fr.e2_sign))\n",
    "\n",
    "print(\"Sortirano:\")\n",
    "sorted_best_second = sorted(best_second, key=lambda fr : fr.e1)\n",
    "for fr in sorted_best_second:\n",
    "    print(fr.printFr() + \" \" + fr.printVerizni()  + \"  e1 = \"+ str(fr.e1_sign) +\"  e2 = \"+ str(fr.e2_sign))"
   ]
  },
  {
   "cell_type": "markdown",
   "metadata": {},
   "source": [
    "Konacan ispis:"
   ]
  },
  {
   "cell_type": "code",
   "execution_count": 14,
   "metadata": {},
   "outputs": [
    {
     "name": "stdout",
     "output_type": "stream",
     "text": [
      "22/7 [3;7]  e1 = -0.0012645428571427253  II\n",
      "25/8 [3;8]  e1 = 0.01659260000000007  N\n",
      "19/6 [3;6]  e1 = -0.02507406666666645   I\n",
      "28/9 [3;9]  e1 = 0.030481488888888908  N\n",
      "31/10 [3;10]  e1 = 0.04159259999999998  N\n",
      "16/5 [3;5]  e1 = -0.05840740000000011   I\n",
      "13/4 [3;4]  e1 = -0.10840739999999993   I\n",
      "3/1 [3]  e1 = 0.14159260000000007  II\n",
      "6/2 [3]  e1 = 0.14159260000000007  N\n",
      "9/3 [3]  e1 = 0.14159260000000007  N\n"
     ]
    }
   ],
   "source": [
    "for fr in sorted_all_fr:\n",
    "    if fr in best_first:\n",
    "        print(fr.printFr() + \" \" + fr.printVerizni()  + \"  e1 = \"+ str(fr.e1_sign) + \"   I\")\n",
    "    elif fr in best_second:\n",
    "         print(fr.printFr() + \" \" + fr.printVerizni()  + \"  e1 = \"+ str(fr.e1_sign) + \"  II\")\n",
    "    else:\n",
    "         print(fr.printFr() + \" \" + fr.printVerizni()  + \"  e1 = \"+ str(fr.e1_sign) + \"  N\")"
   ]
  },
  {
   "cell_type": "code",
   "execution_count": null,
   "metadata": {},
   "outputs": [],
   "source": []
  },
  {
   "cell_type": "code",
   "execution_count": null,
   "metadata": {},
   "outputs": [],
   "source": []
  }
 ],
 "metadata": {
  "kernelspec": {
   "display_name": "Python 3",
   "language": "python",
   "name": "python3"
  },
  "language_info": {
   "codemirror_mode": {
    "name": "ipython",
    "version": 3
   },
   "file_extension": ".py",
   "mimetype": "text/x-python",
   "name": "python",
   "nbconvert_exporter": "python",
   "pygments_lexer": "ipython3",
   "version": "3.7.6"
  }
 },
 "nbformat": 4,
 "nbformat_minor": 4
}
