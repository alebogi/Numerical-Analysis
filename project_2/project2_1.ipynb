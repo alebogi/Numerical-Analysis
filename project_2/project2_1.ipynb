{
 "cells": [
  {
   "cell_type": "code",
   "execution_count": 1,
   "metadata": {},
   "outputs": [],
   "source": [
    "import numpy as np\n",
    "import math as m\n",
    "import sympy as sp"
   ]
  },
  {
   "cell_type": "markdown",
   "metadata": {},
   "source": [
    "P(x) -> pocetni polinom\n",
    "\n",
    "P = x**9 - 3*x**7 - x**6 + 3*x**5 + 3*x**4 - x**3 - 3*x**2 + 1\n",
    "\n",
    "P = x**4 - 3*x**3 - 5*x**2 + x + 1\n",
    "\n",
    "P = 5*x**6 + 3*x**4 - x**3 + 7*x**2 + 9*x - 2"
   ]
  },
  {
   "cell_type": "code",
   "execution_count": 2,
   "metadata": {
    "scrolled": true
   },
   "outputs": [
    {
     "name": "stdout",
     "output_type": "stream",
     "text": [
      "Uneti vrednost a za interval [a,b]: -2\n",
      "Uneti vrednost b za interval [a,b]: 2\n"
     ]
    }
   ],
   "source": [
    "x = sp.symbols('x')\n",
    "P = 5*x**6 + 3*x**4 - x**3 + 7*x**2 + 9*x - 2\n",
    "a = input(\"Uneti vrednost a za interval [a,b]: \")\n",
    "b = input(\"Uneti vrednost b za interval [a,b]: \")"
   ]
  },
  {
   "cell_type": "code",
   "execution_count": 3,
   "metadata": {},
   "outputs": [
    {
     "name": "stdout",
     "output_type": "stream",
     "text": [
      "Trazi se broj nula za polinom P(x) = 5*x**6 + 3*x**4 - x**3 + 7*x**2 + 9*x - 2 na intervalu [-2, 2]\n"
     ]
    }
   ],
   "source": [
    "print(\"Trazi se broj nula za polinom P(x) = \" + str(P) + \" na intervalu [\" + \n",
    "      str(a) + \", \" + str(b) + \"]\")"
   ]
  },
  {
   "cell_type": "markdown",
   "metadata": {},
   "source": [
    "Uz pomoc Euklidovog algoritma trazimo GCD za P i P'"
   ]
  },
  {
   "cell_type": "code",
   "execution_count": 4,
   "metadata": {},
   "outputs": [
    {
     "name": "stdout",
     "output_type": "stream",
     "text": [
      "P(x) = 5*x**6 + 3*x**4 - x**3 + 7*x**2 + 9*x - 2\n",
      "P'(x) = 30*x**5 + 12*x**3 - 3*x**2 + 14*x + 9\n",
      "GCD(P, P') = 1\n"
     ]
    }
   ],
   "source": [
    "Pdiff = sp.diff(P, x)\n",
    "print(\"P(x) = \" + str(P))\n",
    "print(\"P'(x) = \" + str(Pdiff))\n",
    "Q = sp.gcd(P, Pdiff)\n",
    "print(\"GCD(P, P') = \" + str(Q))"
   ]
  },
  {
   "cell_type": "markdown",
   "metadata": {},
   "source": [
    "P0 = P/ Q"
   ]
  },
  {
   "cell_type": "code",
   "execution_count": 5,
   "metadata": {},
   "outputs": [
    {
     "name": "stdout",
     "output_type": "stream",
     "text": [
      "P0(x) = 5*x**6 + 3*x**4 - x**3 + 7*x**2 + 9*x - 2\n",
      "P1(x) = 30*x**5 + 12*x**3 - 3*x**2 + 14*x + 9\n"
     ]
    }
   ],
   "source": [
    "P0 = sp.div(P, Q)[0]\n",
    "P1 = sp.diff(P0, x)\n",
    "\n",
    "print(\"P0(x) = \" + str(P0))\n",
    "print(\"P1(x) = \" + str (P1))"
   ]
  },
  {
   "cell_type": "markdown",
   "metadata": {},
   "source": [
    "moramo imati niz u kom cemo cuvati sve Pi vrednosti"
   ]
  },
  {
   "cell_type": "code",
   "execution_count": 6,
   "metadata": {},
   "outputs": [],
   "source": [
    "p_arr = []\n",
    "p_arr.append(P0)\n",
    "p_arr.append(P1)"
   ]
  },
  {
   "cell_type": "code",
   "execution_count": 7,
   "metadata": {},
   "outputs": [
    {
     "name": "stdout",
     "output_type": "stream",
     "text": [
      "P2(x) = -x**4 + x**3/2 - 14*x**2/3 - 15*x/2 + 2\n",
      "P3(x) = 241*x**3/2 + 298*x**2 + 77*x/2 - 39\n",
      "P4(x) = 2038565*x**2/174243 + 509576*x/58081 - 172049/58081\n",
      "P5(x) = 360294701226998*x/4155747259225 - 56400892481187/4155747259225\n",
      "P6(x) = 2910238849827172050009125/2235021293232756910637284\n"
     ]
    }
   ],
   "source": [
    "while sp.degree(P0) != 1:\n",
    "    p_i = -sp.rem(P0, P1)\n",
    "    P0 = P1\n",
    "    P1 = p_i    \n",
    "    p_arr.append(p_i)\n",
    "    print(\"P\" + str(len(p_arr)-1) + \"(x) = \" + str(p_i))"
   ]
  },
  {
   "cell_type": "markdown",
   "metadata": {},
   "source": [
    "Kada imamo niz, mozemo da odredimo broj nula na intervalu [a,b] tako sto cemo odrediti sve Pi(a) i Pi(b) i sracunati razliku broja promene znakova.\n",
    "a_last_sign i b_last_sign predstavljaju poslednji znak, i s njim uporedjujemo sledeci. 0 = negativno, 1 = pozitivno"
   ]
  },
  {
   "cell_type": "code",
   "execution_count": 8,
   "metadata": {},
   "outputs": [],
   "source": [
    "Va = 0\n",
    "Vb = 0\n",
    "a_last_sign = -1\n",
    "b_last_sign = -1"
   ]
  },
  {
   "cell_type": "code",
   "execution_count": 9,
   "metadata": {},
   "outputs": [],
   "source": [
    "for p in p_arr:\n",
    "    if sp.degree(p) != 0: #polinom stepena razlicitog od 0\n",
    "        pp = sp.Poly(p)\n",
    "        p_a = pp.subs(x, a)\n",
    "        if a_last_sign == -1: #prvi broj u nizu, inicijalizujemo a_last_sign i b_last_sign\n",
    "            if p_a > 0: \n",
    "                a_last_sign = 1\n",
    "            else:\n",
    "                a_last_sign = 0\n",
    "        else:    \n",
    "            if p_a > 0: #pozitivan broj\n",
    "                if a_last_sign == 0: #poslednje je bio negativan broj\n",
    "                    Va = Va + 1 #doslo je do promene\n",
    "            else: #negativan broj\n",
    "                if a_last_sign == 1: #poslednje je bio pozitivan broj\n",
    "                    Va = Va + 1 #doslo je do promene\n",
    "                    \n",
    "            #azuriraj sign\n",
    "            if p_a > 0: \n",
    "                a_last_sign = 1\n",
    "            else:\n",
    "                a_last_sign = 0\n",
    "            \n",
    "                \n",
    "        p_b = pp.subs(x, b)\n",
    "        if b_last_sign == -1: #prvi broj u nizu, inicijalizujemo a_last_sign i b_last_sign\n",
    "            if p_b > 0: \n",
    "                b_last_sign = 1\n",
    "            else:\n",
    "                b_last_sign = 0\n",
    "        else:\n",
    "            if p_b > 0: #pozitivan broj\n",
    "                if b_last_sign == 0: #poslednje je bio negativan broj\n",
    "                    Vb = Vb + 1 #doslo je do promene\n",
    "            else: #negativan broj\n",
    "                if b_last_sign == 1: #poslednje je bio pozitivan broj\n",
    "                    Vb = Vb + 1 #doslo je do promene\n",
    "            #azuriraj sign\n",
    "            if p_b > 0: \n",
    "                b_last_sign = 1\n",
    "            else:\n",
    "                b_last_sign = 0\n",
    "    else:\n",
    "        if a_last_sign == -1: #prvi broj u nizu, inicijalizujemo a_last_sign i b_last_sign\n",
    "            if p > 0: \n",
    "                a_last_sign = 1\n",
    "            else:\n",
    "                a_last_sign = 0\n",
    "        else:\n",
    "            if p > 0: #pozitivan broj\n",
    "                if a_last_sign == 0: #poslednje je bio negativan broj\n",
    "                    Va = Va + 1 #doslo je do promene\n",
    "            else: #negativan broj\n",
    "                if a_last_sign == 1: #poslednje je bio pozitivan broj\n",
    "                    Va = Va + 1 #doslo je do promene\n",
    "            #azuriraj sign\n",
    "            if p > 0: \n",
    "                a_last_sign = 1\n",
    "            else:\n",
    "                a_last_sign = 0\n",
    "                    \n",
    "        if b_last_sign == -1: #prvi broj u nizu, inicijalizujemo a_last_sign i b_last_sign\n",
    "            if p > 0: \n",
    "                b_last_sign = 1\n",
    "            else:\n",
    "                b_last_sign = 0\n",
    "        else:\n",
    "            if p > 0: #pozitivan broj\n",
    "                if b_last_sign == 0: #poslednje je bio negativan broj\n",
    "                    Vb = Vb + 1 #doslo je do promene\n",
    "            else: #negativan broj\n",
    "                if b_last_sign == 1: #poslednje je bio pozitivan broj\n",
    "                    Vb = Vb + 1 #doslo je do promene\n",
    "            #azuriraj sign\n",
    "            if p > 0: \n",
    "                b_last_sign = 1\n",
    "            else:\n",
    "                b_last_sign = 0"
   ]
  },
  {
   "cell_type": "code",
   "execution_count": 10,
   "metadata": {},
   "outputs": [
    {
     "name": "stdout",
     "output_type": "stream",
     "text": [
      "Va = 4\n",
      "Vb = 2\n",
      "Broj nula: N = 2\n"
     ]
    }
   ],
   "source": [
    "print(\"Va = \" + str(Va))\n",
    "print(\"Vb = \" + str(Vb))\n",
    "N = Va - Vb\n",
    "print(\"Broj nula: N = \" + str(N))"
   ]
  },
  {
   "cell_type": "code",
   "execution_count": null,
   "metadata": {},
   "outputs": [],
   "source": []
  }
 ],
 "metadata": {
  "kernelspec": {
   "display_name": "Python 3",
   "language": "python",
   "name": "python3"
  },
  "language_info": {
   "codemirror_mode": {
    "name": "ipython",
    "version": 3
   },
   "file_extension": ".py",
   "mimetype": "text/x-python",
   "name": "python",
   "nbconvert_exporter": "python",
   "pygments_lexer": "ipython3",
   "version": "3.7.6"
  }
 },
 "nbformat": 4,
 "nbformat_minor": 4
}
