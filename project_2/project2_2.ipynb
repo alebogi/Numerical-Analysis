{
 "cells": [
  {
   "cell_type": "code",
   "execution_count": 1,
   "metadata": {},
   "outputs": [],
   "source": [
    "import numpy as np\n",
    "import math as m\n",
    "import sympy as sp\n",
    "import decimal"
   ]
  },
  {
   "cell_type": "markdown",
   "metadata": {},
   "source": [
    "P = (m.pi/1260 - 1/420)*x**8 + (-(m.pi**2/1680)+m.pi/840)*x**7 + \\((m.pi/30)+1/10)*x**6 + (-(m.pi**2/60)+m.pi/30)*x**5 +(2*m.pi/3-2)*x**4\n",
    "\n",
    "P = 2**0.5*x**5 + m.pi*3/200*x**4 - 3**0.5/60*x**3 + 2*m.pi/800*x**2 - 1"
   ]
  },
  {
   "cell_type": "code",
   "execution_count": 2,
   "metadata": {},
   "outputs": [],
   "source": [
    "x = sp.symbols('x')\n",
    "P = 2**0.5*x**5 + m.pi*3/200*x**4 - 3**0.5/60*x**3 + 2*m.pi/800*x**2 - 1\n",
    "k = 3"
   ]
  },
  {
   "cell_type": "code",
   "execution_count": 3,
   "metadata": {},
   "outputs": [
    {
     "name": "stdout",
     "output_type": "stream",
     "text": [
      "1.4142135623731*x**5 + 0.0471238898038469*x**4 - 0.0288675134594813*x**3 + 0.00785398163397448*x**2 - 1\n"
     ]
    }
   ],
   "source": [
    "print(str(P))"
   ]
  },
  {
   "cell_type": "code",
   "execution_count": 4,
   "metadata": {},
   "outputs": [
    {
     "name": "stdout",
     "output_type": "stream",
     "text": [
      "[1.41421356237310, 0.0471238898038469, -0.0288675134594813, 0.00785398163397448, 0.0, -1.00000000000000]\n"
     ]
    }
   ],
   "source": [
    "pp = sp.Poly(P)\n",
    "coefs = pp.all_coeffs()\n",
    "print(str(coefs))"
   ]
  },
  {
   "cell_type": "markdown",
   "metadata": {},
   "source": [
    "Sredjivanje koeficijenata na oblik 1,...*10^..\n",
    "\n",
    "my_coefs predstavlja novi niz koeficijenata, koji se sastoji iz parova vrednosti\n",
    "\n",
    "prva vrednost predstavlja koeficijent, a druga umnozak broja 10"
   ]
  },
  {
   "cell_type": "code",
   "execution_count": 5,
   "metadata": {},
   "outputs": [
    {
     "name": "stdout",
     "output_type": "stream",
     "text": [
      "1.41421356237310*10**0\n",
      "4.71238898038469*10**-2\n",
      "-2.88675134594813*10**-2\n",
      "7.85398163397448*10**-3\n",
      "0.0*10**0\n",
      "-1.00000000000000*10**0\n"
     ]
    }
   ],
   "source": [
    "cnt = 0\n",
    "my_coefs = []\n",
    "for c in coefs:\n",
    "    cnt = 0\n",
    "    if c != 0:\n",
    "        if (c < 0):\n",
    "            neg = True\n",
    "        else:\n",
    "            neg = False\n",
    "        c = abs(c)\n",
    "        while c < 1:\n",
    "            c = c * 10\n",
    "            cnt = cnt + 1\n",
    "        if neg:\n",
    "            my_coefs.append((-c, -cnt))\n",
    "        else:\n",
    "            my_coefs.append((c, -cnt))\n",
    "    else:\n",
    "        my_coefs.append((c, 0))\n",
    "\n",
    "for c in my_coefs:\n",
    "    print(str(c[0]) + \"*10**\" + str(c[1]))"
   ]
  },
  {
   "cell_type": "code",
   "execution_count": 6,
   "metadata": {},
   "outputs": [
    {
     "name": "stdout",
     "output_type": "stream",
     "text": [
      "(1.41421356237310*10**0*x**5)+(4.71238898038469*10**-2*x**4)+(-2.88675134594813*10**-2*x**3)+(7.85398163397448*10**-3*x**2)+(0.0*10**0*x**1)+(-1.00000000000000*10**0*x**0)\n"
     ]
    }
   ],
   "source": [
    "newPstr = \"\"\n",
    "i = len(my_coefs)-1\n",
    "for c in my_coefs:\n",
    "    newPstr = newPstr + \"(\" + str(c[0]) + \"*10**\" + str(c[1]) + \"*x**\" + str(i) +\")\"\n",
    "    i = i - 1\n",
    "    if i >= 0:\n",
    "        newPstr = newPstr + \"+\"\n",
    "print(newPstr)"
   ]
  },
  {
   "cell_type": "markdown",
   "metadata": {},
   "source": [
    "Pravilo za zaokruzivanje:\n",
    "\n",
    "ako je koeficijent pozitivan, zaokruzuje se na donju brojku\n",
    "\n",
    "ako je negativan, zaokruzuje se na gornju"
   ]
  },
  {
   "cell_type": "code",
   "execution_count": 7,
   "metadata": {},
   "outputs": [
    {
     "name": "stdout",
     "output_type": "stream",
     "text": [
      "1.414\n",
      "4.712\n",
      "-2.887\n",
      "7.853\n",
      "0.0\n",
      "-1.0\n"
     ]
    }
   ],
   "source": [
    "rounded_coefs = []\n",
    "for c in my_coefs:\n",
    "    if c[0] > 0:\n",
    "        decimal.getcontext().rounding = decimal.ROUND_DOWN\n",
    "        newc = decimal.Decimal(str(c[0]))\n",
    "        newc = float(round(newc, k))\n",
    "        print(newc)\n",
    "        rounded_coefs.append((newc, c[1]))\n",
    "    else:\n",
    "        decimal.getcontext().rounding = decimal.ROUND_UP\n",
    "        newc = decimal.Decimal(str(c[0]))\n",
    "        newc = float(round(newc, k))\n",
    "        print(newc)\n",
    "        rounded_coefs.append((newc, c[1]))"
   ]
  },
  {
   "cell_type": "markdown",
   "metadata": {},
   "source": [
    "Ispis zaokruzenog polinoma"
   ]
  },
  {
   "cell_type": "code",
   "execution_count": 8,
   "metadata": {},
   "outputs": [
    {
     "name": "stdout",
     "output_type": "stream",
     "text": [
      "(1.414*10**0*x**5)+(4.712*10**-2*x**4)+(-2.887*10**-2*x**3)+(7.853*10**-3*x**2)+(0.0*10**0*x**1)+(-1.0*10**0*x**0)\n"
     ]
    }
   ],
   "source": [
    "newPstr = \"\"\n",
    "i = len(rounded_coefs)-1\n",
    "for c in rounded_coefs:\n",
    "    newPstr = newPstr + \"(\" + str(c[0]) + \"*10**\" + str(c[1]) + \"*x**\" + str(i) + \")\"\n",
    "    i = i - 1\n",
    "    if i >= 0:\n",
    "        newPstr = newPstr + \"+\" \n",
    "print(newPstr)"
   ]
  },
  {
   "cell_type": "code",
   "execution_count": null,
   "metadata": {},
   "outputs": [],
   "source": []
  }
 ],
 "metadata": {
  "kernelspec": {
   "display_name": "Python 3",
   "language": "python",
   "name": "python3"
  },
  "language_info": {
   "codemirror_mode": {
    "name": "ipython",
    "version": 3
   },
   "file_extension": ".py",
   "mimetype": "text/x-python",
   "name": "python",
   "nbconvert_exporter": "python",
   "pygments_lexer": "ipython3",
   "version": "3.7.6"
  }
 },
 "nbformat": 4,
 "nbformat_minor": 4
}
