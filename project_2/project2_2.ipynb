{
 "cells": [
  {
   "cell_type": "code",
   "execution_count": 1,
   "metadata": {},
   "outputs": [],
   "source": [
    "import numpy as np\n",
    "import math as m\n",
    "import sympy as sp\n",
    "import decimal"
   ]
  },
  {
   "cell_type": "markdown",
   "metadata": {},
   "source": [
    "P = (m.pi/1260 - 1/420)*x**8 + \n",
    "(-(m.pi**2/1680)+m.pi/840)*x**7 +\n",
    "    (-(m.pi/30)+1/10)*x**6 + \n",
    "    (-(m.pi**2/60)+m.pi/30)*x**5 +\n",
    "    (2*m.pi/3-2)*x**4"
   ]
  },
  {
   "cell_type": "code",
   "execution_count": 2,
   "metadata": {},
   "outputs": [],
   "source": [
    "x = sp.symbols('x')\n",
    "P = (m.pi/1260 - 1/420)*x**8 + (-(m.pi**2/1680)+m.pi/840)*x**7 +\\\n",
    "(-(m.pi/30)+1/10)*x**6 + (-(m.pi**2/60)+m.pi/30)*x**5 +(2*m.pi/3-2)*x**4\n",
    "k = 2"
   ]
  },
  {
   "cell_type": "code",
   "execution_count": 3,
   "metadata": {},
   "outputs": [
    {
     "name": "stdout",
     "output_type": "stream",
     "text": [
      "0.000112375121896661*x**8 - 0.00213477327018439*x**7 - 0.00471975511965976*x**6 - 0.0597736515651629*x**5 + 0.0943951023931953*x**4\n"
     ]
    }
   ],
   "source": [
    "print(str(P))"
   ]
  },
  {
   "cell_type": "code",
   "execution_count": 4,
   "metadata": {},
   "outputs": [
    {
     "name": "stdout",
     "output_type": "stream",
     "text": [
      "[0.000112375121896661, -0.00213477327018439, -0.00471975511965976, -0.0597736515651629, 0.0943951023931953, 0.0, 0.0, 0.0, 0.0]\n"
     ]
    }
   ],
   "source": [
    "pp = sp.Poly(P)\n",
    "coefs = pp.all_coeffs()\n",
    "print(str(coefs))"
   ]
  },
  {
   "cell_type": "markdown",
   "metadata": {},
   "source": [
    "Sredjivanje koeficijenata na oblik 1,...*10^..\n",
    "\n",
    "my_coefs predstavlja novi niz koeficijenata, koji se sastoji iz parova vrednosti\n",
    "\n",
    "prva vrednost predstavlja koeficijent, a druga umnozak broja 10"
   ]
  },
  {
   "cell_type": "code",
   "execution_count": 5,
   "metadata": {},
   "outputs": [
    {
     "name": "stdout",
     "output_type": "stream",
     "text": [
      "1.12375121896661*10**-4\n",
      "-2.13477327018439*10**-3\n",
      "-4.71975511965976*10**-3\n",
      "-5.97736515651629*10**-2\n",
      "9.43951023931953*10**-2\n",
      "0.0*10**0\n",
      "0.0*10**0\n",
      "0.0*10**0\n",
      "0.0*10**0\n"
     ]
    }
   ],
   "source": [
    "cnt = 0\n",
    "my_coefs = []\n",
    "for c in coefs:\n",
    "    cnt = 0\n",
    "    if c != 0:\n",
    "        if (c < 0):\n",
    "            neg = True\n",
    "        else:\n",
    "            neg = False\n",
    "        c = abs(c)\n",
    "        while c < 1:\n",
    "            c = c * 10\n",
    "            cnt = cnt + 1\n",
    "        if neg:\n",
    "            my_coefs.append((-c, -cnt))\n",
    "        else:\n",
    "            my_coefs.append((c, -cnt))\n",
    "    else:\n",
    "        my_coefs.append((c, 0))\n",
    "\n",
    "for c in my_coefs:\n",
    "    print(str(c[0]) + \"*10**\" + str(c[1]))"
   ]
  },
  {
   "cell_type": "code",
   "execution_count": 27,
   "metadata": {},
   "outputs": [
    {
     "name": "stdout",
     "output_type": "stream",
     "text": [
      "(1.12375121896661*10**-4*x**8)+(-2.13477327018439*10**-3*x**7)+(-4.71975511965976*10**-3*x**6)+(-5.97736515651629*10**-2*x**5)+(9.43951023931953*10**-2*x**4)+(0.0*10**0*x**3)+(0.0*10**0*x**2)+(0.0*10**0*x**1)+(0.0*10**0*x**0)\n"
     ]
    }
   ],
   "source": [
    "newPstr = \"\"\n",
    "i = len(my_coefs)-1\n",
    "for c in my_coefs:\n",
    "    newPstr = newPstr + \"(\" + str(c[0]) + \"*10**\" + str(c[1]) + \"*x**\" + str(i) +\")\"\n",
    "    i = i - 1\n",
    "    if i >= 0:\n",
    "        newPstr = newPstr + \"+\"\n",
    "print(newPstr)"
   ]
  },
  {
   "cell_type": "markdown",
   "metadata": {},
   "source": [
    "Pravilo za zaokruzivanje:\n",
    "\n",
    "ako je koeficijent pozitivan, zaokruzuje se na donju brojku\n",
    "\n",
    "ako je negativan, zaokruzuje se na gornju"
   ]
  },
  {
   "cell_type": "code",
   "execution_count": 21,
   "metadata": {},
   "outputs": [
    {
     "name": "stdout",
     "output_type": "stream",
     "text": [
      "1.12\n",
      "-2.14\n",
      "-4.72\n",
      "-5.98\n",
      "9.43\n",
      "0.0\n",
      "0.0\n",
      "0.0\n",
      "0.0\n"
     ]
    }
   ],
   "source": [
    "rounded_coefs = []\n",
    "for c in my_coefs:\n",
    "    if c[0] > 0:\n",
    "        decimal.getcontext().rounding = decimal.ROUND_DOWN\n",
    "        newc = decimal.Decimal(str(c[0]))\n",
    "        newc = float(round(newc, k))\n",
    "        print(newc)\n",
    "        rounded_coefs.append((newc, c[1]))\n",
    "    else:\n",
    "        decimal.getcontext().rounding = decimal.ROUND_UP\n",
    "        newc = decimal.Decimal(str(c[0]))\n",
    "        newc = float(round(newc, k))\n",
    "        print(newc)\n",
    "        rounded_coefs.append((newc, c[1]))"
   ]
  },
  {
   "cell_type": "markdown",
   "metadata": {},
   "source": [
    "Ispis zaokruzenog polinoma"
   ]
  },
  {
   "cell_type": "code",
   "execution_count": 26,
   "metadata": {},
   "outputs": [
    {
     "name": "stdout",
     "output_type": "stream",
     "text": [
      "(1.12*10**-4*x**8)+(-2.14*10**-3*x**7)+(-4.72*10**-3*x**6)+(-5.98*10**-2*x**5)+(9.43*10**-2*x**4)+(0.0*10**0*x**3)+(0.0*10**0*x**2)+(0.0*10**0*x**1)+(0.0*10**0*x**0)\n"
     ]
    }
   ],
   "source": [
    "newPstr = \"\"\n",
    "i = len(rounded_coefs)-1\n",
    "for c in rounded_coefs:\n",
    "    newPstr = newPstr + \"(\" + str(c[0]) + \"*10**\" + str(c[1]) + \"*x**\" + str(i) + \")\"\n",
    "    i = i - 1\n",
    "    if i >= 0:\n",
    "        newPstr = newPstr + \"+\" \n",
    "print(newPstr)"
   ]
  },
  {
   "cell_type": "code",
   "execution_count": null,
   "metadata": {},
   "outputs": [],
   "source": []
  }
 ],
 "metadata": {
  "kernelspec": {
   "display_name": "Python 3",
   "language": "python",
   "name": "python3"
  },
  "language_info": {
   "codemirror_mode": {
    "name": "ipython",
    "version": 3
   },
   "file_extension": ".py",
   "mimetype": "text/x-python",
   "name": "python",
   "nbconvert_exporter": "python",
   "pygments_lexer": "ipython3",
   "version": "3.7.6"
  }
 },
 "nbformat": 4,
 "nbformat_minor": 4
}
