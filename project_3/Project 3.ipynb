{
 "cells": [
  {
   "cell_type": "code",
   "execution_count": 8,
   "id": "15c977ef",
   "metadata": {},
   "outputs": [],
   "source": [
    "import numpy as np\n",
    "import math\n",
    "import sympy as sp\n",
    "import matplotlib.pyplot as plt\n",
    "\n",
    "from colorama import Fore"
   ]
  },
  {
   "cell_type": "code",
   "execution_count": 9,
   "id": "bb94ae78",
   "metadata": {},
   "outputs": [],
   "source": [
    "x = sp.symbols('x')"
   ]
  },
  {
   "cell_type": "code",
   "execution_count": 10,
   "id": "d8a6fe58",
   "metadata": {},
   "outputs": [],
   "source": [
    "def maclaurin(f, n):\n",
    "    sign = -1\n",
    "    if f == 'cos':\n",
    "        n = (int)(n / 2)\n",
    "        T = sp.Poly(1, x) # inicijalizujemo na T = 1\n",
    "        for k in range(1, n+1):\n",
    "            T = T.add(sp.Poly(sign**k * x**(2*k) / math.factorial((2*k))))\n",
    "            \n",
    "    elif f == 'sin':\n",
    "        n = (int)((n - 1) / 2)\n",
    "        T = sp.Poly(x, x) # inicijalizujemo na T = x\n",
    "        for k in range(1, n+1):\n",
    "            T = T.add(sp.Poly(sign**k * x**(2*k+1) / math.factorial((2*k+1))))\n",
    "    \n",
    "    return T"
   ]
  },
  {
   "cell_type": "code",
   "execution_count": 11,
   "id": "2f41f8b5",
   "metadata": {},
   "outputs": [],
   "source": [
    "def ima_nule(P):\n",
    "    # pravljenje sturmovog niza\n",
    "    Pdiff = sp.diff(P, x)\n",
    "    Q = sp.gcd(P, Pdiff)\n",
    "    P0 = sp.div(P, Q)[0]\n",
    "    P1 = sp.diff(P0, x)\n",
    "    p_arr = []\n",
    "    p_arr.append(P0)\n",
    "    p_arr.append(P1)\n",
    "    while sp.degree(P0) != 1:\n",
    "        p_i = -sp.rem(P0, P1)\n",
    "        P0 = P1\n",
    "        P1 = p_i    \n",
    "        p_arr.append(p_i)\n",
    "        \n",
    "    # odredjujemo broj nula na intervalu [a, b]\n",
    "    a = 0.001\n",
    "    b = np.pi / 2\n",
    "    Va = 0\n",
    "    Vb = 0\n",
    "    a_last_sign = -1\n",
    "    b_last_sign = -1\n",
    "    for p in p_arr:\n",
    "        if sp.degree(p) != 0:\n",
    "            pp = sp.Poly(p)\n",
    "            p_a = pp.subs(x, a)\n",
    "            p_b = pp.subs(x, b)\n",
    "        else:\n",
    "            p_a = p.as_expr()\n",
    "            p_b = p.as_expr()\n",
    "            \n",
    "        if p_a > 0: \n",
    "            if a_last_sign == -1:\n",
    "                a_last_sign = 1\n",
    "            elif a_last_sign == 0: #poslednje je bio negativan broj\n",
    "                Va = Va + 1 #doslo je do promene\n",
    "                a_last_sign = 1 #azuriramo znak\n",
    "        elif p_a < 0:\n",
    "            if a_last_sign == -1:\n",
    "                a_last_sign = 0\n",
    "            elif a_last_sign == 1: #poslednje je bio negativan broj\n",
    "                Va = Va + 1 #doslo je do promene\n",
    "                a_last_sign = 0 #azuriramo znak\n",
    "\n",
    "        if p_b > 0: \n",
    "            if b_last_sign == -1:\n",
    "                b_last_sign = 1\n",
    "            elif b_last_sign == 0: #poslednje je bio negativan broj\n",
    "                Vb = Vb + 1 #doslo je do promene\n",
    "                b_last_sign = 1 #azuriramo znak\n",
    "        elif p_b < 0:\n",
    "            if b_last_sign == -1:\n",
    "                b_last_sign = 0\n",
    "            elif b_last_sign == 1: #poslednje je bio negativan broj\n",
    "                Vb = Vb + 1 #doslo je do promene\n",
    "                b_last_sign = 0 #azuriramo znak\n",
    "    \n",
    "             \n",
    "    N = Va - Vb\n",
    "    print(\"Broj nula: N = \" + str(N))\n",
    "    if N > 0:\n",
    "        return True\n",
    "    else:\n",
    "        return False"
   ]
  },
  {
   "cell_type": "markdown",
   "id": "604d2904",
   "metadata": {},
   "source": [
    "alfa uz cos, beta uz sin"
   ]
  },
  {
   "cell_type": "markdown",
   "id": "0042722a",
   "metadata": {},
   "source": [
    "def find_alfa(f): #uz cos\n",
    "    ??\n",
    "\n",
    "def find_beta(f):\n",
    "    ??"
   ]
  },
  {
   "cell_type": "code",
   "execution_count": 12,
   "id": "f7cc59e7",
   "metadata": {},
   "outputs": [],
   "source": [
    "def ispitaj(f, k1, k2):\n",
    "    alfa = find_alfa(f)\n",
    "    beta = find_beta(f)\n",
    "    \n",
    "    if alfa > 0: # pozitivno je -> gledamo od cega je cos veci\n",
    "        cos_index = 4 * k1 + 2\n",
    "    elif alfa < 0: # negativno je -> gledamo od cega je cos manji\n",
    "        cos_index = 4 * k1 \n",
    "    \n",
    "    if beta > 0: # pozitivno je -> gledamo od cega je sin veci\n",
    "        sin_index = 4 * k2 + 3\n",
    "    elif beta < 0: # negativno je -> gledamo od cega je sin manji\n",
    "        sin_index = 4 * k2 + 1\n",
    "        \n",
    "    p = f.subs(sp.cos(x), maclaurin(\"cos\", cos_index).as_expr())\n",
    "    p = p.subs(sp.sin(x), maclaurin(\"sin\", sin_index).as_expr())      \n",
    "    \n",
    "    \n",
    "    if ima_nule(p):\n",
    "        # AKO FUNKCIJA IMA NULE NA DATOM SEGMENTU - NE DOKAZUJE POZITIVNOST\n",
    "        print(\"[NOT OK] P[\" + str(k1) + \",\" + str(k2) \n",
    "              + \"](x) ne dokazuje pozitivnost MTP funkcije nad (0, Pi/2) jer ima nule na tom segmentu\")\n",
    "    else:\n",
    "        # AKO FUNKCIJA NEMA NULE - ODREDJUJEMO ZNAK FUNKCIJE\n",
    "        fSign= sp.Poly(p).subs(x, 1)\n",
    "        if fSign < 0:# AKO JE NEGATIVNA - NE DOKAZUJE POZITIVNOST\n",
    "            print(\"[NOT OK] P[\" + str(k1) + \",\" + str(k2) \n",
    "              + \"](x) ne dokazuje pozitivnost MTP funkcije nad (0, Pi/2) jer je negativna na zadatom domenu\")\n",
    "        else: # AKO JE POZITIVNA - DOKAZUJE POZITIVNOST\n",
    "            print(\"[OK] P[\" + str(k1) + \",\" + str(k2) \n",
    "              + \"](x) dokazuje pozitivnost MTP funkcije nad (0, Pi/2).\")\n",
    "    \n",
    "    return p"
   ]
  },
  {
   "cell_type": "markdown",
   "id": "02f44e31",
   "metadata": {},
   "source": [
    "## Primer 1"
   ]
  },
  {
   "cell_type": "code",
   "execution_count": 13,
   "id": "916107fe",
   "metadata": {},
   "outputs": [],
   "source": [
    "def find_alfa(f): #uz cos\n",
    "    return -1\n",
    "\n",
    "def find_beta(f):\n",
    "    return 1\n",
    "\n",
    "f = x**3 * sp.sin(x) - x * sp.cos(x)**3 + x - 3/2 * x**3 + 3/32 * x**4"
   ]
  },
  {
   "cell_type": "markdown",
   "id": "5905523c",
   "metadata": {},
   "source": [
    "## Primer 2"
   ]
  },
  {
   "cell_type": "code",
   "execution_count": null,
   "id": "2af436c3",
   "metadata": {},
   "outputs": [],
   "source": [
    "def find_alfa(f): #uz cos\n",
    "    return 1\n",
    "\n",
    "def find_beta(f):\n",
    "    return -1\n",
    "\n",
    "f = "
   ]
  },
  {
   "cell_type": "markdown",
   "id": "ea31bbeb",
   "metadata": {},
   "source": [
    "## Primer 3"
   ]
  },
  {
   "cell_type": "code",
   "execution_count": null,
   "id": "88bd3475",
   "metadata": {},
   "outputs": [],
   "source": [
    "def find_alfa(f): #uz cos\n",
    "    return 1\n",
    "\n",
    "def find_beta(f):\n",
    "    return 1\n",
    "\n",
    "f = ???"
   ]
  },
  {
   "cell_type": "markdown",
   "id": "2e90190c",
   "metadata": {},
   "source": [
    "## Primer 4"
   ]
  },
  {
   "cell_type": "code",
   "execution_count": null,
   "id": "b0983abc",
   "metadata": {},
   "outputs": [],
   "source": [
    "def find_alfa(f): #uz cos\n",
    "    return 1\n",
    "\n",
    "def find_beta(f):\n",
    "    return 1\n",
    "\n",
    "f ="
   ]
  },
  {
   "cell_type": "markdown",
   "id": "b4865f0f",
   "metadata": {},
   "source": [
    "# GLAVNI PROGRAM"
   ]
  },
  {
   "cell_type": "code",
   "execution_count": 14,
   "id": "549cf5e9",
   "metadata": {
    "scrolled": false
   },
   "outputs": [
    {
     "name": "stdout",
     "output_type": "stream",
     "text": [
      "Broj nula: N = 0\n",
      "[NOT OK] P[0,0](x) ne dokazuje pozitivnost MTP funkcije nad (0, Pi/2) jer je negativna na zadatom domenu\n",
      "Broj nula: N = 0\n",
      "[NOT OK] P[0,1](x) ne dokazuje pozitivnost MTP funkcije nad (0, Pi/2) jer je negativna na zadatom domenu\n",
      "Broj nula: N = 1\n",
      "[NOT OK] P[1,0](x) ne dokazuje pozitivnost MTP funkcije nad (0, Pi/2) jer ima nule na tom segmentu\n",
      "Broj nula: N = 0\n",
      "[OK] P[1,1](x) dokazuje pozitivnost MTP funkcije nad (0, Pi/2).\n"
     ]
    },
    {
     "data": {
      "image/png": "[encoded data removed]",
      "text/plain": [
       "<Figure size 432x288 with 1 Axes>"
      ]
     },
     "metadata": {
      "needs_background": "light"
     },
     "output_type": "display_data"
    }
   ],
   "source": [
    "p1 = ispitaj(f, 0, 0)\n",
    "p2 = ispitaj(f, 0, 1)\n",
    "p3 = ispitaj(f, 1, 0)\n",
    "p4 = ispitaj(f, 1, 1)\n",
    "\n",
    "graf0 = sp.plot(f, xlim=[-1, 2], ylim=[-1.25, 1], show=False, label=\"f(x)\")\n",
    "graf1 = sp.plot(p1.as_expr(), xlim=[-1, 2], ylim=[-1.25, 1], show=False, label=\"$P_{0,0}$\")\n",
    "graf2 = sp.plot(p2.as_expr(), xlim=[-1, 2], ylim=[-1.25, 1], show=False, label=\"$P_{0,1}$\")\n",
    "graf3 = sp.plot(p3.as_expr(), xlim=[-1, 2], ylim=[-1.25, 1], show=False, label=\"$P_{1,0}$\")\n",
    "graf4 = sp.plot(p4.as_expr(), xlim=[-1, 2], ylim=[-1.25, 1], show=False, label=\"$P_{1,1}$\")\n",
    "\n",
    "graf0.append(graf1[0])\n",
    "graf0.append(graf2[0])\n",
    "graf0.append(graf3[0])\n",
    "graf0.append(graf4[0])\n",
    "\n",
    "graf0.legend = True\n",
    "\n",
    "graf0.show()"
   ]
  },
  {
   "cell_type": "code",
   "execution_count": null,
   "id": "b333b3e8",
   "metadata": {},
   "outputs": [],
   "source": []
  }
 ],
 "metadata": {
  "kernelspec": {
   "display_name": "Python 3 (ipykernel)",
   "language": "python",
   "name": "python3"
  },
  "language_info": {
   "codemirror_mode": {
    "name": "ipython",
    "version": 3
   },
   "file_extension": ".py",
   "mimetype": "text/x-python",
   "name": "python",
   "nbconvert_exporter": "python",
   "pygments_lexer": "ipython3",
   "version": "3.9.7"
  }
 },
 "nbformat": 4,
 "nbformat_minor": 5
}
